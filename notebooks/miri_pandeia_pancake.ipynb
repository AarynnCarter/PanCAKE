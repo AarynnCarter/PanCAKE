{
 "cells": [
  {
   "cell_type": "markdown",
   "metadata": {},
   "source": [
    "# Introduction\n",
    "This notebook demonstrates the use of PanCAKE with the MIRI coronagraphs, and contrasts PanCAKE with default Pandeia coronagraphy calculations. In particular, it provides examples of:\n",
    "* Constructing a MIRI scene in both Pandeia and PanCAKE\n",
    "* Importing a MIRI scene built in Pandeia into PakCAKE\n",
    "* Engine calculations using Pandeia's precomputed PSF library, in both Pandeia and PanCAKE\n",
    "* Comparisons of Pandeia's precomputed PSF library with PanCAKE's on-the-fly PSF generation\n",
    "* Comparisons of on-the-fly PSF generation with varying numbers of wavelength bins"
   ]
  },
  {
   "cell_type": "code",
   "execution_count": null,
   "metadata": {},
   "outputs": [],
   "source": [
    "import matplotlib.pyplot as plt\n",
    "%matplotlib inline\n",
    "\n",
    "from stsci_pancake import scene, analysis, transformations, engine\n",
    "\n",
    "from pandeia.engine.calc_utils import build_default_calc\n",
    "from pandeia.engine.perform_calculation import perform_calculation\n",
    "\n",
    "from copy import deepcopy\n",
    "import numpy as np\n",
    "import time"
   ]
  },
  {
   "cell_type": "markdown",
   "metadata": {},
   "source": [
    "# Constructing a Scene\n",
    "\n",
    "We'll start by defining the source and instrument properties for our desired observation. "
   ]
  },
  {
   "cell_type": "code",
   "execution_count": null,
   "metadata": {},
   "outputs": [],
   "source": [
    "target_mV = 4.7\n",
    "ref_mV = 3.\n",
    "\n",
    "target_Sp = 'a5v'\n",
    "ref_Sp = 'a3v'\n",
    "\n",
    "subarray = 'mask1065'\n",
    "filter_c = 'f1065c'\n",
    "mask_c = 'fqpm1065'\n",
    "\n",
    "ngroup = 10\n",
    "nint = 1"
   ]
  },
  {
   "cell_type": "markdown",
   "metadata": {},
   "source": [
    "Now we'll create in a MIRI template from Pandeia and configure the instrument for our observation. (In this case, it's already configured for a F1065C observation, but we'll demonstrate setting the calculation keys regardless.)"
   ]
  },
  {
   "cell_type": "code",
   "execution_count": null,
   "metadata": {},
   "outputs": [],
   "source": [
    "# Load the template\n",
    "config = build_default_calc('jwst', 'miri', 'coronagraphy')\n",
    "\n",
    "# Set the coronagraph and filter\n",
    "config['configuration']['detector']['subarray'] = subarray\n",
    "config['configuration']['detector']['ngroup'] = ngroup\n",
    "config['configuration']['instrument']['aperture'] = mask_c\n",
    "config['configuration']['instrument']['filter'] = filter_c"
   ]
  },
  {
   "cell_type": "markdown",
   "metadata": {},
   "source": [
    "This template contains a scene with a single star. We'll set the star properties and then duplicate it to create a planetary companion."
   ]
  },
  {
   "cell_type": "code",
   "execution_count": null,
   "metadata": {},
   "outputs": [],
   "source": [
    "# Pull out the target (the first entry in the 'scene' list)\n",
    "targetstar = config['scene'][0]\n",
    "targetstar['spectrum']['normalization']['norm_flux'] = target_mV\n",
    "targetstar['spectrum']['sed']['key'] = target_Sp\n",
    "targetstar['id'] = 1\n",
    "\n",
    "# Copy the target star and turn it into a planet\n",
    "planetA = deepcopy(targetstar)\n",
    "planetA['id'] = 2 #each source must have a unique ID, starting at 1\n",
    "\n",
    "# A different way to normalize source flux\n",
    "planetA['spectrum']['normalization']['bandpass'] = 'miri,imaging,f1500w'\n",
    "planetA['spectrum']['normalization']['norm_flux'] = 15.3\n",
    "planetA['spectrum']['normalization']['type'] = 'jwst'\n",
    "planetA['spectrum']['sed']['sed_type'] = 'blackbody'\n",
    "planetA['spectrum']['sed']['temp'] = 900.\n",
    "del planetA['spectrum']['sed']['key'] #unnecessary now\n",
    "\n",
    "# Source offset\n",
    "planetA['position']['x_offset'] = 2.3 #arcsec\n",
    "planetA['position']['y_offset'] = 3.1\n",
    "\n",
    "# Update calculation file with the new planet\n",
    "config['scene'].append(planetA)\n",
    "\n",
    "# Update Pandeia's contrast angle to the planet's offset\n",
    "config['strategy']['contrast_azimuth'] = 40.\n",
    "config['strategy']['contrast_separation'] = 1."
   ]
  },
  {
   "cell_type": "markdown",
   "metadata": {},
   "source": [
    "Create the reference scene for PSF subtraction:"
   ]
  },
  {
   "cell_type": "code",
   "execution_count": null,
   "metadata": {},
   "outputs": [],
   "source": [
    "# We adopt a brighter but spectrally-mismatched reference\n",
    "config['strategy']['psf_subtraction_source']['spectrum']['normalization']['norm_flux'] = ref_mV\n",
    "config['strategy']['psf_subtraction_source']['spectrum']['sed']['key'] = ref_Sp\n",
    "config['strategy']['psf_subtraction_source']['id'] = 3"
   ]
  },
  {
   "cell_type": "markdown",
   "metadata": {},
   "source": [
    "And now we'll plot the two scenes we've constructed"
   ]
  },
  {
   "cell_type": "code",
   "execution_count": null,
   "metadata": {},
   "outputs": [],
   "source": [
    "plt.figure(figsize=(15,5))\n",
    "plt.subplot(121,polar=True)\n",
    "scene.plot_scene(config['scene'],'Target Scene w/ Companion',newfig=False)\n",
    "ax = plt.gca()\n",
    "ax.set_rlim(0,5.)\n",
    "plt.subplot(122,polar=True)\n",
    "scene.plot_scene([config['strategy']['psf_subtraction_source']],'Reference Scene',newfig=False)\n",
    "ax = plt.gca()\n",
    "ax.set_rlim(0,5.)"
   ]
  },
  {
   "cell_type": "markdown",
   "metadata": {},
   "source": [
    "# Run the Pandeia Engine\n",
    "\n",
    "Now we pass our calculation files to the pandeia engine to create the slope images (and a number of other products)."
   ]
  },
  {
   "cell_type": "code",
   "execution_count": null,
   "metadata": {},
   "outputs": [],
   "source": [
    "pandeia_result = perform_calculation(deepcopy(config))\n",
    "\n",
    "subtracted_slope = pandeia_result['2d']['detector']\n",
    "\n",
    "plt.figure(figsize=(10,4))\n",
    "plt.imshow(subtracted_slope)\n",
    "plt.title('Target - Reference Counts')\n",
    "plt.colorbar().set_label('e$^{-}$/s')"
   ]
  },
  {
   "cell_type": "markdown",
   "metadata": {},
   "source": [
    "In order to run the same calculation via panCAKE, the convenience functions ``engine.import_pandeia_calculation`` and ``engine.calculate_subtracted`` will generate similar results to Pandeia's optimally-subtracted calculation:"
   ]
  },
  {
   "cell_type": "code",
   "execution_count": null,
   "metadata": {},
   "outputs": [],
   "source": [
    "pancake_result = engine.calculate_subtracted(config)\n",
    "\n",
    "subtracted_slope = pancake_result['subtracted']\n",
    "\n",
    "plt.figure(figsize=(10,4))\n",
    "plt.imshow(subtracted_slope)\n",
    "plt.title('Target - Reference Counts')\n",
    "plt.colorbar().set_label('e$^{-}$/s')"
   ]
  },
  {
   "cell_type": "markdown",
   "metadata": {},
   "source": [
    "To demonstrate the difference between the two data reductions, the following plot shows the result of subtracting the panCAKE image from the pandeia image."
   ]
  },
  {
   "cell_type": "code",
   "execution_count": null,
   "metadata": {},
   "outputs": [],
   "source": [
    "difference_image = pandeia_result['2d']['detector'] - pancake_result['subtracted']\n",
    "\n",
    "plt.figure(figsize=(10,4))\n",
    "plt.imshow(difference_image)\n",
    "plt.title('Pandeia - PanCAKE')\n",
    "plt.colorbar().set_label('e$^{-}$/s')"
   ]
  },
  {
   "cell_type": "markdown",
   "metadata": {},
   "source": [
    "### Wave Sampling\n",
    "\n",
    "An aside on performance and accuracy: The ```engine.options.wave_sampling``` parameter provides a hook into the wavelength sampling of the 3D (x,y,wavelength) cube. By default, Pandeia adopts some large value for the wavelength sampling (typically 150+); however, this is the primary time sink in the calculation. Setting ```engine.options.wave_sampling = 11``` while developing your simulation provides dramatic time savings while getting within ~5% of the \"true\" value. By ```engine.options.wave_sampling = 41```, one can expect agreement to within roughly 1%.\n",
    "\n",
    "### On-the-fly PSF Calculations\n",
    "\n",
    "The Pandeia engine relies on a library of precomputed PSFs that are sparsely sampled across the coronagraphic field of view. For the MIRI coronagraphs, this sparse sampling will often be insufficient for accurately capturing PSF variations arising from small offsets.\n",
    "\n",
    "Pandeia-Coronagraphy gives the option (```engine.options.on_the_fly_PSFs```) to circumvent the use of this precomputed library and force recomputing each PSF on the fly in WebbPSF. We'll toggle it to True, at the cost of some speed.\n",
    "\n",
    "The example below shoes a calculation with 11 data points (using on-the-fly PSFs), and one with 51."
   ]
  },
  {
   "cell_type": "code",
   "execution_count": null,
   "metadata": {},
   "outputs": [],
   "source": [
    "engine.options.on_the_fly_PSFs = True\n",
    "\n",
    "start_11 = time.time()\n",
    "engine.options.wave_sampling = 11\n",
    "pancake_result_11 = engine.calculate_subtracted(config)\n",
    "subtracted_slope_11 = pancake_result_11['subtracted']\n",
    "print(\"11-point On-the-fly result completed in {:.1f} seconds\".format(time.time() - start_11))\n",
    "\n",
    "start_51 = time.time()\n",
    "engine.options.wave_sampling = 51\n",
    "pancake_result_51 = engine.calculate_subtracted(config)\n",
    "subtracted_slope_51 = pancake_result_51['subtracted']\n",
    "print(\"51-point On-the-fly result completed in {:.1f} seconds\".format(time.time() - start_51))\n",
    "\n",
    "plt.figure(figsize=(10,4))\n",
    "plt.subplot(121)\n",
    "plt.imshow(subtracted_slope_11)\n",
    "plt.title('11 Wavelength Bins')\n",
    "plt.colorbar().set_label('e$^{-}$/s')\n",
    "plt.subplot(122)\n",
    "plt.imshow(subtracted_slope_51)\n",
    "plt.title('51 Wavelength Bins')\n",
    "plt.colorbar().set_label('e$^{-}$/s')"
   ]
  },
  {
   "cell_type": "markdown",
   "metadata": {},
   "source": [
    "Once again, we can compare these results both to one another and to the pandeia result above. In the plots below, the leftmost compares the 11-bin and the 51-bin results, whilst the rightmost plot compares the 11-bin result to the pandeia result."
   ]
  },
  {
   "cell_type": "code",
   "execution_count": null,
   "metadata": {},
   "outputs": [],
   "source": [
    "sub_11_51 = subtracted_slope_11 - subtracted_slope_51\n",
    "sub_11_pandeia = pandeia_result['2d']['detector'] - subtracted_slope_11\n",
    "\n",
    "plt.figure(figsize=(10,4))\n",
    "plt.subplot(121)\n",
    "plt.imshow(sub_11_51)\n",
    "plt.title('11 bins - 51 bins')\n",
    "plt.colorbar().set_label('e$^{-}$/s')\n",
    "plt.subplot(122)\n",
    "plt.imshow(sub_11_pandeia)\n",
    "plt.title('Pandeia result - 11 bins')\n",
    "plt.colorbar().set_label('e$^{-}$/s')"
   ]
  },
  {
   "cell_type": "markdown",
   "metadata": {},
   "source": [
    "Note that in the comparison of the Pandeia result with the on-the-fly PSF result with 11 bins, the panCAKE OTF result saw the planetary source at a considerably higher countrate (~5000 counts/s more in the source centre), whilst only increasing the apparent brightness of the residual star image by ~2500 counts/s.\n",
    "\n",
    "The capabilities of on-the-fly PSF calculations become most important when considering the effect of target acquisition (TA) errors. Although the ``engine.calculate_subtracted`` function offers the ability to generate its own TA errors, for this example the errors will be added directly to the configuration dictionary so that they are the same for Pandeia and PanCAKE."
   ]
  },
  {
   "cell_type": "code",
   "execution_count": null,
   "metadata": {},
   "outputs": [],
   "source": [
    "config_with_errors = deepcopy(config)\n",
    "target_x_err, target_y_err = scene.get_ta_error()\n",
    "scene.offset_scene(config_with_errors['scene'], target_x_err, target_y_err)\n",
    "reference_x_err, reference_y_err = scene.get_ta_error()\n",
    "scene.offset_scene([config_with_errors['strategy']['psf_subtraction_source']], reference_x_err, reference_y_err)\n",
    "\n",
    "pandeia_result_with_errors = perform_calculation(deepcopy(config_with_errors))\n",
    "\n",
    "engine.options.wave_sampling = 21\n",
    "pancake_result_with_errors = engine.calculate_subtracted(config_with_errors)\n",
    "\n",
    "pandeia_slope = pandeia_result_with_errors['2d']['detector']\n",
    "pancake_slope = pancake_result_with_errors['subtracted']\n",
    "\n",
    "plt.figure(figsize=(10,4))\n",
    "plt.subplot(121)\n",
    "plt.imshow(pandeia_slope)\n",
    "plt.title('Pandeia Target Image')\n",
    "plt.colorbar().set_label('e$^{-}$/s')\n",
    "plt.subplot(122)\n",
    "plt.imshow(pancake_slope)\n",
    "plt.title('PanCAKE Target Image')\n",
    "plt.colorbar().set_label('e$^{-}$/s')"
   ]
  },
  {
   "cell_type": "markdown",
   "metadata": {},
   "source": [
    "Once again, subtracting the panCAKE result from the pandeia result will give an idea of the differences between the two methods."
   ]
  },
  {
   "cell_type": "code",
   "execution_count": null,
   "metadata": {},
   "outputs": [],
   "source": [
    "difference_image = pandeia_slope - pancake_slope\n",
    "\n",
    "plt.figure(figsize=(10,4))\n",
    "plt.imshow(difference_image)\n",
    "plt.title('Pandeia - PanCAKE')\n",
    "plt.colorbar().set_label('e$^{-}$/s')"
   ]
  },
  {
   "cell_type": "markdown",
   "metadata": {},
   "source": [
    "In this case, panCAKE has a substantially greater residual from the central star. This is as a result of its on-the-fly PSF calculation (when selecting a PSF from its library, pandeia selects the PSF closest to the supplied offset from a relatively sparse grid (for MIRI FQPM, for example, pandeia has a triangle of PSFs at 15 locations ([0,0], [0.125,0], [0.125, 0.125], [0.30, 0], [0.30, 0.125], [0.30,0.30], and so on) at a 5 degree angle to the axes, which are mirrored in 8-fold symmetry to fill the plane.) As such, pandeia is not registering the differences in PSF caused by the simulated TA error, whereas panCAKE produces a more accurate indication of the actual JWST accuracy under the circumstances."
   ]
  }
 ],
 "metadata": {
  "kernelspec": {
   "display_name": "Python [conda env:test]",
   "language": "python",
   "name": "conda-env-test-py"
  },
  "language_info": {
   "codemirror_mode": {
    "name": "ipython",
    "version": 3
   },
   "file_extension": ".py",
   "mimetype": "text/x-python",
   "name": "python",
   "nbconvert_exporter": "python",
   "pygments_lexer": "ipython3",
   "version": "3.6.6"
  }
 },
 "nbformat": 4,
 "nbformat_minor": 2
}
